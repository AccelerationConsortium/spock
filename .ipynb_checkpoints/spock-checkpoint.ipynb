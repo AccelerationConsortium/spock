{
 "cells": [
  {
   "cell_type": "markdown",
   "id": "d316fcbf-7e8a-499d-b59b-31184a9c437d",
   "metadata": {},
   "source": [
    "# spock\n",
    "Scientific-paper stats\n",
    "\n",
    "Installing dependencies which are:\n",
    "- json\n",
    "- scholarly"
   ]
  },
  {
   "cell_type": "code",
   "execution_count": 1,
   "id": "0bc478dc-d890-4b55-ac5f-fbb144d2585d",
   "metadata": {},
   "outputs": [],
   "source": [
    "import json\n",
    "from scholarly import scholarly"
   ]
  },
  {
   "cell_type": "markdown",
   "id": "c5cf8061-7979-48aa-8429-b6995127aceb",
   "metadata": {},
   "source": [
    "# The Publication Class: \n"
   ]
  },
  {
   "cell_type": "code",
   "execution_count": 2,
   "id": "7d60eae0-6833-408f-a2e3-07964944b45c",
   "metadata": {},
   "outputs": [],
   "source": [
    "\n",
    "class Publication:\n",
    "    def __init__(self,publication_filled,author_name) -> None:\n",
    "        self.publication_filled = publication_filled\n",
    "        self.author_name = author_name\n",
    "        \n",
    "        self.title = self.get_publication_title()\n",
    "        self.abstract = self.get_publication_abstract()\n",
    "        self.author = self.get_author_name()\n",
    "        self.year = self.get_year()\n",
    "        self.topic = self.get_topic() \n",
    "        \n",
    "    def get_topic(self,output_file=\"json/ouput.json\",\n",
    "                  input_file=\"json/response.json\"):\n",
    "        try:\n",
    "            with open(output_file,'r') as file:\n",
    "                data = json.load(file)\n",
    "            return data[self.author]['topic']\n",
    "        except Exception as e:\n",
    "            return self.__get_topic(input_file)\n",
    "    \n",
    "    def get_publication_title(self):\n",
    "        return self.publication_filled['bib']['title'] \n",
    "\n",
    "    def get_publication_abstract(self):\n",
    "        return self.publication_filled['bib']['abstract']\n",
    "\n",
    "    def get_author_name(self):\n",
    "        return self.publication_filled['bib']['author']\n",
    "\n",
    "    def get_year(self):\n",
    "        return self.publication_filled['bib']['pub_year']\n",
    "    \n",
    "    def __get_topic(self, file):\n",
    "        \n",
    "        topics = []\n",
    "        with open(file, 'r') as file:\n",
    "            data = json.load(file)\n",
    "        \n",
    "        for category, item in data.items():\n",
    "            for keyword in item['keywords']:\n",
    "                if keyword in self.abstract:\n",
    "                    topics.append(category)\n",
    "                if keyword in self.title:\n",
    "                    topics.append(category)\n",
    "    \n",
    "                    \n",
    "        return list(set(topics))\n",
    "    \n",
    "    \n",
    "            \n",
    "        \n",
    "    \n",
    "        \n",
    "\n"
   ]
  },
  {
   "cell_type": "markdown",
   "id": "91f92a4a-e8ed-4ebb-be44-f579d5b01f89",
   "metadata": {},
   "source": [
    "# The Author class"
   ]
  },
  {
   "cell_type": "code",
   "execution_count": 3,
   "id": "5aac0914-a787-4fd4-9f74-eaecc044eea6",
   "metadata": {},
   "outputs": [],
   "source": [
    "\n",
    "class Author:\n",
    "    def __init__(self,author) -> None:\n",
    "        self.author_name = author\n",
    "        self.last_publication = Publication(self.get_last_publication(),self.author_name)\n",
    "\n",
    "\n",
    "\n",
    "    def get_last_publication(self):\n",
    "        search_query = scholarly.search_author(self.author_name)\n",
    "        first_author_result = next(search_query)\n",
    "        author = scholarly.fill(first_author_result )\n",
    "        first_publication = sorted(author['publications'], \n",
    "                                   key= lambda x: int(x['bib']['pub_year']) if 'pub_year' in x['bib'] else 0, \n",
    "                                   reverse=True)[0]\n",
    "        first_publication_filled = scholarly.fill(first_publication)\n",
    "        return first_publication_filled\n",
    "\n",
    "\n",
    "    def setup_author(self,output_file):\n",
    "        with open(output_file,'r') as file:\n",
    "            data = json.load(file)\n",
    "        author_last_publication = self.last_publication\n",
    "        \n",
    "        data[self.author_name] = {\"title\": author_last_publication.title,\n",
    "                                    \"abstract\": author_last_publication.abstract,\n",
    "                                    \"topic\": author_last_publication.topic, \n",
    "                                    \"author\": author_last_publication.author, \n",
    "                                    \"year\": author_last_publication.year}\n",
    "        \n",
    "        with open(output_file,'w') as file:\n",
    "            json.dump(data, file)\n"
   ]
  },
  {
   "cell_type": "markdown",
   "id": "42468463-5008-440a-a710-bd4a73d66915",
   "metadata": {},
   "source": [
    "# Code for initial set-up\n",
    "- Retrieving data for the latest article for the AC members from scholarly\n",
    "- Writing the data in a json file"
   ]
  },
  {
   "cell_type": "code",
   "execution_count": 4,
   "id": "b0d3ab9f-0e9c-42c7-ba9c-ed4ed77dfae0",
   "metadata": {},
   "outputs": [
    {
     "name": "stdout",
     "output_type": "stream",
     "text": [
      "Topics for Mehrad Ansari have been updated\n",
      "Topics for Jay Werber have been updated\n"
     ]
    },
    {
     "ename": "KeyboardInterrupt",
     "evalue": "",
     "output_type": "error",
     "traceback": [
      "\u001b[0;31m---------------------------------------------------------------------------\u001b[0m",
      "\u001b[0;31mKeyboardInterrupt\u001b[0m                         Traceback (most recent call last)",
      "Cell \u001b[0;32mIn[4], line 6\u001b[0m\n\u001b[1;32m      4\u001b[0m \u001b[38;5;28;01mtry\u001b[39;00m:\n\u001b[1;32m      5\u001b[0m     author \u001b[38;5;241m=\u001b[39m author[:\u001b[38;5;241m-\u001b[39m\u001b[38;5;241m1\u001b[39m]\n\u001b[0;32m----> 6\u001b[0m     author_filled \u001b[38;5;241m=\u001b[39m \u001b[43mAuthor\u001b[49m\u001b[43m(\u001b[49m\u001b[43mauthor\u001b[49m\u001b[43m)\u001b[49m\n\u001b[1;32m      7\u001b[0m     author_filled\u001b[38;5;241m.\u001b[39msetup_author(\u001b[38;5;124m'\u001b[39m\u001b[38;5;124mjson/ouput.json\u001b[39m\u001b[38;5;124m'\u001b[39m)\n\u001b[1;32m      8\u001b[0m     \u001b[38;5;28mprint\u001b[39m(\u001b[38;5;124mf\u001b[39m\u001b[38;5;124m\"\u001b[39m\u001b[38;5;124mTopics for \u001b[39m\u001b[38;5;132;01m{\u001b[39;00mauthor\u001b[38;5;132;01m}\u001b[39;00m\u001b[38;5;124m have been updated\u001b[39m\u001b[38;5;124m\"\u001b[39m)\n",
      "Cell \u001b[0;32mIn[3], line 4\u001b[0m, in \u001b[0;36mAuthor.__init__\u001b[0;34m(self, author)\u001b[0m\n\u001b[1;32m      2\u001b[0m \u001b[38;5;28;01mdef\u001b[39;00m \u001b[38;5;21m__init__\u001b[39m(\u001b[38;5;28mself\u001b[39m,author) \u001b[38;5;241m-\u001b[39m\u001b[38;5;241m>\u001b[39m \u001b[38;5;28;01mNone\u001b[39;00m:\n\u001b[1;32m      3\u001b[0m     \u001b[38;5;28mself\u001b[39m\u001b[38;5;241m.\u001b[39mauthor_name \u001b[38;5;241m=\u001b[39m author\n\u001b[0;32m----> 4\u001b[0m     \u001b[38;5;28mself\u001b[39m\u001b[38;5;241m.\u001b[39mlast_publication \u001b[38;5;241m=\u001b[39m Publication(\u001b[38;5;28;43mself\u001b[39;49m\u001b[38;5;241;43m.\u001b[39;49m\u001b[43mget_last_publication\u001b[49m\u001b[43m(\u001b[49m\u001b[43m)\u001b[49m,\u001b[38;5;28mself\u001b[39m\u001b[38;5;241m.\u001b[39mauthor_name)\n",
      "Cell \u001b[0;32mIn[3], line 11\u001b[0m, in \u001b[0;36mAuthor.get_last_publication\u001b[0;34m(self)\u001b[0m\n\u001b[1;32m      9\u001b[0m search_query \u001b[38;5;241m=\u001b[39m scholarly\u001b[38;5;241m.\u001b[39msearch_author(\u001b[38;5;28mself\u001b[39m\u001b[38;5;241m.\u001b[39mauthor_name)\n\u001b[1;32m     10\u001b[0m first_author_result \u001b[38;5;241m=\u001b[39m \u001b[38;5;28mnext\u001b[39m(search_query)\n\u001b[0;32m---> 11\u001b[0m author \u001b[38;5;241m=\u001b[39m \u001b[43mscholarly\u001b[49m\u001b[38;5;241;43m.\u001b[39;49m\u001b[43mfill\u001b[49m\u001b[43m(\u001b[49m\u001b[43mfirst_author_result\u001b[49m\u001b[43m \u001b[49m\u001b[43m)\u001b[49m\n\u001b[1;32m     12\u001b[0m first_publication \u001b[38;5;241m=\u001b[39m \u001b[38;5;28msorted\u001b[39m(author[\u001b[38;5;124m'\u001b[39m\u001b[38;5;124mpublications\u001b[39m\u001b[38;5;124m'\u001b[39m], \n\u001b[1;32m     13\u001b[0m                            key\u001b[38;5;241m=\u001b[39m \u001b[38;5;28;01mlambda\u001b[39;00m x: \u001b[38;5;28mint\u001b[39m(x[\u001b[38;5;124m'\u001b[39m\u001b[38;5;124mbib\u001b[39m\u001b[38;5;124m'\u001b[39m][\u001b[38;5;124m'\u001b[39m\u001b[38;5;124mpub_year\u001b[39m\u001b[38;5;124m'\u001b[39m]) \u001b[38;5;28;01mif\u001b[39;00m \u001b[38;5;124m'\u001b[39m\u001b[38;5;124mpub_year\u001b[39m\u001b[38;5;124m'\u001b[39m \u001b[38;5;129;01min\u001b[39;00m x[\u001b[38;5;124m'\u001b[39m\u001b[38;5;124mbib\u001b[39m\u001b[38;5;124m'\u001b[39m] \u001b[38;5;28;01melse\u001b[39;00m \u001b[38;5;241m0\u001b[39m, \n\u001b[1;32m     14\u001b[0m                            reverse\u001b[38;5;241m=\u001b[39m\u001b[38;5;28;01mTrue\u001b[39;00m)[\u001b[38;5;241m0\u001b[39m]\n\u001b[1;32m     15\u001b[0m first_publication_filled \u001b[38;5;241m=\u001b[39m scholarly\u001b[38;5;241m.\u001b[39mfill(first_publication)\n",
      "File \u001b[0;32m~/anaconda3/envs/spock/lib/python3.11/site-packages/scholarly/_scholarly.py:233\u001b[0m, in \u001b[0;36m_Scholarly.fill\u001b[0;34m(self, object, sections, sortby, publication_limit)\u001b[0m\n\u001b[1;32m    231\u001b[0m \u001b[38;5;28;01mif\u001b[39;00m \u001b[38;5;28mobject\u001b[39m[\u001b[38;5;124m'\u001b[39m\u001b[38;5;124mcontainer_type\u001b[39m\u001b[38;5;124m'\u001b[39m] \u001b[38;5;241m==\u001b[39m \u001b[38;5;124m\"\u001b[39m\u001b[38;5;124mAuthor\u001b[39m\u001b[38;5;124m\"\u001b[39m:\n\u001b[1;32m    232\u001b[0m     author_parser \u001b[38;5;241m=\u001b[39m AuthorParser(\u001b[38;5;28mself\u001b[39m\u001b[38;5;241m.\u001b[39m__nav)\n\u001b[0;32m--> 233\u001b[0m     \u001b[38;5;28mobject\u001b[39m \u001b[38;5;241m=\u001b[39m \u001b[43mauthor_parser\u001b[49m\u001b[38;5;241;43m.\u001b[39;49m\u001b[43mfill\u001b[49m\u001b[43m(\u001b[49m\u001b[38;5;28;43mobject\u001b[39;49m\u001b[43m,\u001b[49m\u001b[43m \u001b[49m\u001b[43msections\u001b[49m\u001b[43m,\u001b[49m\u001b[43m \u001b[49m\u001b[43msortby\u001b[49m\u001b[43m,\u001b[49m\u001b[43m \u001b[49m\u001b[43mpublication_limit\u001b[49m\u001b[43m)\u001b[49m\n\u001b[1;32m    234\u001b[0m     \u001b[38;5;28;01mif\u001b[39;00m \u001b[38;5;28mobject\u001b[39m \u001b[38;5;129;01mis\u001b[39;00m \u001b[38;5;28;01mFalse\u001b[39;00m:\n\u001b[1;32m    235\u001b[0m         \u001b[38;5;28;01mraise\u001b[39;00m \u001b[38;5;167;01mValueError\u001b[39;00m(\u001b[38;5;124m\"\u001b[39m\u001b[38;5;124mIncorrect input\u001b[39m\u001b[38;5;124m\"\u001b[39m)\n",
      "File \u001b[0;32m~/anaconda3/envs/spock/lib/python3.11/site-packages/scholarly/author_parser.py:454\u001b[0m, in \u001b[0;36mAuthorParser.fill\u001b[0;34m(self, author, sections, sortby, publication_limit)\u001b[0m\n\u001b[1;32m    452\u001b[0m     \u001b[38;5;28;01mfor\u001b[39;00m i \u001b[38;5;129;01min\u001b[39;00m \u001b[38;5;28mself\u001b[39m\u001b[38;5;241m.\u001b[39m_sections:\n\u001b[1;32m    453\u001b[0m         \u001b[38;5;28;01mif\u001b[39;00m i \u001b[38;5;129;01mnot\u001b[39;00m \u001b[38;5;129;01min\u001b[39;00m author[\u001b[38;5;124m'\u001b[39m\u001b[38;5;124mfilled\u001b[39m\u001b[38;5;124m'\u001b[39m]:\n\u001b[0;32m--> 454\u001b[0m             (\u001b[38;5;28;43mgetattr\u001b[39;49m\u001b[43m(\u001b[49m\u001b[38;5;28;43mself\u001b[39;49m\u001b[43m,\u001b[49m\u001b[43m \u001b[49m\u001b[38;5;124;43mf\u001b[39;49m\u001b[38;5;124;43m'\u001b[39;49m\u001b[38;5;124;43m_fill_\u001b[39;49m\u001b[38;5;132;43;01m{\u001b[39;49;00m\u001b[43mi\u001b[49m\u001b[38;5;132;43;01m}\u001b[39;49;00m\u001b[38;5;124;43m'\u001b[39;49m\u001b[43m)\u001b[49m\u001b[43m(\u001b[49m\u001b[43msoup\u001b[49m\u001b[43m,\u001b[49m\u001b[43m \u001b[49m\u001b[43mauthor\u001b[49m\u001b[43m)\u001b[49m \u001b[38;5;28;01mif\u001b[39;00m i \u001b[38;5;241m!=\u001b[39m \u001b[38;5;124m'\u001b[39m\u001b[38;5;124mpublications\u001b[39m\u001b[38;5;124m'\u001b[39m \u001b[38;5;28;01melse\u001b[39;00m \u001b[38;5;28mgetattr\u001b[39m(\u001b[38;5;28mself\u001b[39m, \u001b[38;5;124mf\u001b[39m\u001b[38;5;124m'\u001b[39m\u001b[38;5;124m_fill_\u001b[39m\u001b[38;5;132;01m{\u001b[39;00mi\u001b[38;5;132;01m}\u001b[39;00m\u001b[38;5;124m'\u001b[39m)(soup, author, publication_limit, sortby_str))\n\u001b[1;32m    455\u001b[0m             author[\u001b[38;5;124m'\u001b[39m\u001b[38;5;124mfilled\u001b[39m\u001b[38;5;124m'\u001b[39m]\u001b[38;5;241m.\u001b[39mappend(i)\n\u001b[1;32m    456\u001b[0m \u001b[38;5;28;01melse\u001b[39;00m:\n",
      "File \u001b[0;32m~/anaconda3/envs/spock/lib/python3.11/site-packages/scholarly/author_parser.py:151\u001b[0m, in \u001b[0;36mAuthorParser._fill_public_access\u001b[0;34m(self, soup, author)\u001b[0m\n\u001b[1;32m    149\u001b[0m \u001b[38;5;66;03m# Make a dictionary mapping to the publications\u001b[39;00m\n\u001b[1;32m    150\u001b[0m publications \u001b[38;5;241m=\u001b[39m {pub[\u001b[38;5;124m'\u001b[39m\u001b[38;5;124mauthor_pub_id\u001b[39m\u001b[38;5;124m'\u001b[39m]:pub \u001b[38;5;28;01mfor\u001b[39;00m pub \u001b[38;5;129;01min\u001b[39;00m author[\u001b[38;5;124m'\u001b[39m\u001b[38;5;124mpublications\u001b[39m\u001b[38;5;124m'\u001b[39m]}\n\u001b[0;32m--> 151\u001b[0m soup \u001b[38;5;241m=\u001b[39m \u001b[38;5;28;43mself\u001b[39;49m\u001b[38;5;241;43m.\u001b[39;49m\u001b[43mnav\u001b[49m\u001b[38;5;241;43m.\u001b[39;49m\u001b[43m_get_soup\u001b[49m\u001b[43m(\u001b[49m\u001b[43m_MANDATES\u001b[49m\u001b[38;5;241;43m.\u001b[39;49m\u001b[43mformat\u001b[49m\u001b[43m(\u001b[49m\u001b[43mauthor\u001b[49m\u001b[43m[\u001b[49m\u001b[38;5;124;43m'\u001b[39;49m\u001b[38;5;124;43mscholar_id\u001b[39;49m\u001b[38;5;124;43m'\u001b[39;49m\u001b[43m]\u001b[49m\u001b[43m,\u001b[49m\u001b[43m \u001b[49m\u001b[43m_PAGESIZE\u001b[49m\u001b[43m)\u001b[49m\u001b[43m)\u001b[49m\n\u001b[1;32m    152\u001b[0m \u001b[38;5;28;01mwhile\u001b[39;00m \u001b[38;5;28;01mTrue\u001b[39;00m:\n\u001b[1;32m    153\u001b[0m     rows \u001b[38;5;241m=\u001b[39m soup\u001b[38;5;241m.\u001b[39mfind_all(\u001b[38;5;124m'\u001b[39m\u001b[38;5;124mdiv\u001b[39m\u001b[38;5;124m'\u001b[39m, \u001b[38;5;124m'\u001b[39m\u001b[38;5;124mgsc_mnd_sec_na\u001b[39m\u001b[38;5;124m'\u001b[39m)\n",
      "File \u001b[0;32m~/anaconda3/envs/spock/lib/python3.11/site-packages/scholarly/_navigator.py:239\u001b[0m, in \u001b[0;36mNavigator._get_soup\u001b[0;34m(self, url)\u001b[0m\n\u001b[1;32m    237\u001b[0m \u001b[38;5;28;01mdef\u001b[39;00m \u001b[38;5;21m_get_soup\u001b[39m(\u001b[38;5;28mself\u001b[39m, url: \u001b[38;5;28mstr\u001b[39m) \u001b[38;5;241m-\u001b[39m\u001b[38;5;241m>\u001b[39m BeautifulSoup:\n\u001b[1;32m    238\u001b[0m \u001b[38;5;250m    \u001b[39m\u001b[38;5;124;03m\"\"\"Return the BeautifulSoup for a page on scholar.google.com\"\"\"\u001b[39;00m\n\u001b[0;32m--> 239\u001b[0m     html \u001b[38;5;241m=\u001b[39m \u001b[38;5;28;43mself\u001b[39;49m\u001b[38;5;241;43m.\u001b[39;49m\u001b[43m_get_page\u001b[49m\u001b[43m(\u001b[49m\u001b[38;5;124;43m'\u001b[39;49m\u001b[38;5;124;43mhttps://scholar.google.com\u001b[39;49m\u001b[38;5;132;43;01m{0}\u001b[39;49;00m\u001b[38;5;124;43m'\u001b[39;49m\u001b[38;5;241;43m.\u001b[39;49m\u001b[43mformat\u001b[49m\u001b[43m(\u001b[49m\u001b[43murl\u001b[49m\u001b[43m)\u001b[49m\u001b[43m)\u001b[49m\n\u001b[1;32m    240\u001b[0m     html \u001b[38;5;241m=\u001b[39m html\u001b[38;5;241m.\u001b[39mreplace(\u001b[38;5;124mu\u001b[39m\u001b[38;5;124m'\u001b[39m\u001b[38;5;130;01m\\xa0\u001b[39;00m\u001b[38;5;124m'\u001b[39m, \u001b[38;5;124mu\u001b[39m\u001b[38;5;124m'\u001b[39m\u001b[38;5;124m \u001b[39m\u001b[38;5;124m'\u001b[39m)\n\u001b[1;32m    241\u001b[0m     res \u001b[38;5;241m=\u001b[39m BeautifulSoup(html, \u001b[38;5;124m'\u001b[39m\u001b[38;5;124mhtml.parser\u001b[39m\u001b[38;5;124m'\u001b[39m)\n",
      "File \u001b[0;32m~/anaconda3/envs/spock/lib/python3.11/site-packages/scholarly/_navigator.py:113\u001b[0m, in \u001b[0;36mNavigator._get_page\u001b[0;34m(self, pagerequest, premium)\u001b[0m\n\u001b[1;32m    111\u001b[0m \u001b[38;5;28;01mtry\u001b[39;00m:\n\u001b[1;32m    112\u001b[0m     w \u001b[38;5;241m=\u001b[39m random\u001b[38;5;241m.\u001b[39muniform(\u001b[38;5;241m1\u001b[39m,\u001b[38;5;241m2\u001b[39m)\n\u001b[0;32m--> 113\u001b[0m     time\u001b[38;5;241m.\u001b[39msleep(w)\n\u001b[1;32m    114\u001b[0m     resp \u001b[38;5;241m=\u001b[39m session\u001b[38;5;241m.\u001b[39mget(pagerequest, timeout\u001b[38;5;241m=\u001b[39mtimeout)\n\u001b[1;32m    115\u001b[0m     \u001b[38;5;28;01mif\u001b[39;00m premium \u001b[38;5;129;01mis\u001b[39;00m \u001b[38;5;28;01mFalse\u001b[39;00m:  \u001b[38;5;66;03m# premium methods may contain sensitive information\u001b[39;00m\n",
      "\u001b[0;31mKeyboardInterrupt\u001b[0m: "
     ]
    }
   ],
   "source": [
    "with open(\"authors.txt\",\"r\") as file:\n",
    "    authors = file.readlines()\n",
    "    for author in authors:\n",
    "        try:\n",
    "            author = author[:-1]\n",
    "            author_filled = Author(author)\n",
    "            author_filled.setup_author('json/ouput.json')\n",
    "            print(f\"Topics for {author} have been updated\")\n",
    "        except Exception as e:\n",
    "            print(f\"Couldn't find the google scholar profile for {author}: {e}\")\n"
   ]
  },
  {
   "cell_type": "code",
   "execution_count": null,
   "id": "fc9eddbc-b9b1-45f4-b8b1-4737ba265248",
   "metadata": {},
   "outputs": [],
   "source": []
  }
 ],
 "metadata": {
  "kernelspec": {
   "display_name": "Python 3 (ipykernel)",
   "language": "python",
   "name": "python3"
  },
  "language_info": {
   "codemirror_mode": {
    "name": "ipython",
    "version": 3
   },
   "file_extension": ".py",
   "mimetype": "text/x-python",
   "name": "python",
   "nbconvert_exporter": "python",
   "pygments_lexer": "ipython3",
   "version": "3.11.9"
  }
 },
 "nbformat": 4,
 "nbformat_minor": 5
}
