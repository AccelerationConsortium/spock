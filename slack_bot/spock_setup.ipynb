{
 "cells": [
  {
   "cell_type": "markdown",
   "id": "423c03b3",
   "metadata": {},
   "source": [
    "## This notebook is to show how we are going to use Spock"
   ]
  },
  {
   "cell_type": "markdown",
   "id": "2f4b456a",
   "metadata": {},
   "source": [
    "#### Downloading papers and preparing the dataset"
   ]
  },
  {
   "cell_type": "code",
   "execution_count": null,
   "id": "da7b4edd",
   "metadata": {},
   "outputs": [],
   "source": [
    "import polars as pl\n",
    "import logging\n",
    "from doi2pdf import doi2pdf\n",
    "\n",
    "logging.basicConfig(level=logging.INFO)\n",
    "logger = logging.getLogger(__name__)\n",
    "df = pl.read_csv(\"../../../data/filtered_AC_publications.csv\")\n",
    "papers = {}\n",
    "\n",
    "for doi in df[\"DOI\"].unique().to_list():\n",
    "    try:\n",
    "        print(f\"Downloading PDF for DOI: {doi}\")\n",
    "        doi2pdf(doi=doi, output=f\"../data/pdfs/{doi.replace('/','_')}.pdf\")\n",
    "        papers[doi] = 'success'\n",
    "    except Exception as e:\n",
    "        papers[doi] = 'failed'\n",
    "        logger.error(f\"Failed to download PDF for DOI: {doi} with error: {e}\")\n",
    "    logger.info(f\"Downloaded PDF for DOI: {doi}\")\n",
    "    \n",
    "with open(\"papers.json\", \"w\") as f:\n",
    "    import json\n",
    "    json.dump(papers, f)\n",
    "    \n"
   ]
  },
  {
   "cell_type": "markdown",
   "id": "d770c86f",
   "metadata": {},
   "source": [
    "These papers are going to be used for Spock and are going to be available in the Spock's vectorstores"
   ]
  },
  {
   "cell_type": "code",
   "execution_count": null,
   "id": "827e189a",
   "metadata": {},
   "outputs": [],
   "source": []
  }
 ],
 "metadata": {
  "language_info": {
   "name": "python"
  }
 },
 "nbformat": 4,
 "nbformat_minor": 5
}
