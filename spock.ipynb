{
 "cells": [
  {
   "cell_type": "markdown",
   "id": "d316fcbf-7e8a-499d-b59b-31184a9c437d",
   "metadata": {},
   "source": [
    "# spock\n",
    "Scientific-paper stats\n",
    "\n",
    "Installing dependencies which are:\n",
    "- json\n",
    "- scholarly"
   ]
  },
  {
   "cell_type": "code",
   "execution_count": 1,
   "id": "0bc478dc-d890-4b55-ac5f-fbb144d2585d",
   "metadata": {},
   "outputs": [],
   "source": [
    "import json\n",
    "from scholarly import scholarly"
   ]
  },
  {
   "cell_type": "markdown",
   "id": "c5cf8061-7979-48aa-8429-b6995127aceb",
   "metadata": {
    "jp-MarkdownHeadingCollapsed": true
   },
   "source": [
    "# The Publication Class: \n"
   ]
  },
  {
   "cell_type": "code",
   "execution_count": 2,
   "id": "7d60eae0-6833-408f-a2e3-07964944b45c",
   "metadata": {},
   "outputs": [],
   "source": [
    "\n",
    "class Publication:\n",
    "    def __init__(self,publication_filled,author_name) -> None:\n",
    "        self.publication_filled = publication_filled\n",
    "        self.author_name = author_name\n",
    "        \n",
    "        self.title = self.get_publication_title()\n",
    "        self.abstract = self.get_publication_abstract()\n",
    "        self.author = self.get_author_name()\n",
    "        self.year = self.get_year()\n",
    "        self.topic = self.get_topic() \n",
    "        \n",
    "    def get_topic(self,output_file=\"json/ouput.json\",\n",
    "                  input_file=\"json/response.json\"):\n",
    "        try:\n",
    "            with open(output_file,'r') as file:\n",
    "                data = json.load(file)\n",
    "            return data[self.author]['topic']\n",
    "        except Exception as e:\n",
    "            return self.__get_topic(input_file)\n",
    "    \n",
    "    def get_publication_title(self):\n",
    "        return self.publication_filled['bib']['title'] \n",
    "\n",
    "    def get_publication_abstract(self):\n",
    "        return self.publication_filled['bib']['abstract']\n",
    "\n",
    "    def get_author_name(self):\n",
    "        return self.publication_filled['bib']['author']\n",
    "\n",
    "    def get_year(self):\n",
    "        return self.publication_filled['bib']['pub_year']\n",
    "    \n",
    "    def __get_topic(self, file):\n",
    "        \n",
    "        topics = []\n",
    "        with open(file, 'r') as file:\n",
    "            data = json.load(file)\n",
    "        \n",
    "        for category, item in data.items():\n",
    "            for keyword in item['keywords']:\n",
    "                if keyword in self.abstract:\n",
    "                    topics.append(category)\n",
    "                if keyword in self.title:\n",
    "                    topics.append(category)\n",
    "    \n",
    "                    \n",
    "        return list(set(topics))\n",
    "    \n",
    "    \n",
    "            \n",
    "        \n",
    "    \n",
    "        \n",
    "\n"
   ]
  },
  {
   "cell_type": "markdown",
   "id": "91f92a4a-e8ed-4ebb-be44-f579d5b01f89",
   "metadata": {},
   "source": [
    "# The Author class"
   ]
  },
  {
   "cell_type": "code",
   "execution_count": 3,
   "id": "5aac0914-a787-4fd4-9f74-eaecc044eea6",
   "metadata": {},
   "outputs": [],
   "source": [
    "\n",
    "class Author:\n",
    "    def __init__(self,author) -> None:\n",
    "        self.author_name = author\n",
    "        self.last_publication = Publication(self.get_last_publication(),self.author_name)\n",
    "\n",
    "\n",
    "\n",
    "    def get_last_publication(self):\n",
    "        search_query = scholarly.search_author(self.author_name)\n",
    "        first_author_result = next(search_query)\n",
    "        author = scholarly.fill(first_author_result )\n",
    "        first_publication = sorted(author['publications'], \n",
    "                                   key= lambda x: int(x['bib']['pub_year']) if 'pub_year' in x['bib'] else 0, \n",
    "                                   reverse=True)[0]\n",
    "        first_publication_filled = scholarly.fill(first_publication)\n",
    "        return first_publication_filled\n",
    "\n",
    "\n",
    "    def setup_author(self,output_file):\n",
    "        with open(output_file,'r') as file:\n",
    "            data = json.load(file)\n",
    "        author_last_publication = self.last_publication\n",
    "        \n",
    "        data[self.author_name] = {\"title\": author_last_publication.title,\n",
    "                                    \"abstract\": author_last_publication.abstract,\n",
    "                                    \"topic\": author_last_publication.topic, \n",
    "                                    \"author\": author_last_publication.author, \n",
    "                                    \"year\": author_last_publication.year}\n",
    "        \n",
    "        with open(output_file,'w') as file:\n",
    "            json.dump(data, file)\n"
   ]
  },
  {
   "cell_type": "markdown",
   "id": "42468463-5008-440a-a710-bd4a73d66915",
   "metadata": {},
   "source": [
    "# Code for initial set-up\n",
    "- Retrieving data for the latest article for the AC members from scholarly\n",
    "- Writing the data in a json file"
   ]
  },
  {
   "cell_type": "code",
   "execution_count": null,
   "id": "fa3679f7-7f70-4168-a95e-5a07f34f01dc",
   "metadata": {},
   "outputs": [],
   "source": [
    "with open(\"authors.txt\",\"r\") as file:\n",
    "    authors = file.readlines()\n",
    "    for author in authors:\n",
    "        try:\n",
    "            author = author[:-1]\n",
    "            author_filled = Author(author)\n",
    "            author_filled.setup_author('json/ouput.json')\n",
    "            print(f\"Topics for {author} have been updated\")\n",
    "        except Exception as e:\n",
    "            print(f\"Couldn't find the google scholar profile for {author}: {e}\")\n"
   ]
  }
 ],
 "metadata": {
  "kernelspec": {
   "display_name": "Python 3 (ipykernel)",
   "language": "python",
   "name": "python3"
  },
  "language_info": {
   "codemirror_mode": {
    "name": "ipython",
    "version": 3
   },
   "file_extension": ".py",
   "mimetype": "text/x-python",
   "name": "python",
   "nbconvert_exporter": "python",
   "pygments_lexer": "ipython3",
   "version": "3.11.9"
  }
 },
 "nbformat": 4,
 "nbformat_minor": 5
}
