{
 "cells": [
  {
   "cell_type": "markdown",
   "metadata": {},
   "source": [
    "# Spock demonstration\n",
    "\n",
    "In this Notebook, we would be visiting Spock's main features and how to use them. \n",
    "We would first import Spock."
   ]
  },
  {
   "cell_type": "code",
   "execution_count": 1,
   "metadata": {},
   "outputs": [],
   "source": [
    "from spock_literature.spock import Spock\n",
    "import pprint as pp\n",
    "import os"
   ]
  },
  {
   "cell_type": "markdown",
   "metadata": {},
   "source": [
    "### Download PDFs\n",
    "\n",
    "Sometimes, we might find it easier to just give the URL to a scientific paper and have the PDF downloaded. Spock can do this for you. \n",
    "\n",
    "We would first look at the HTML code of the URL given to us, if Spock notices a PDF link, it would download it for us. If not, it would read the text and give it to an LLM to judge if the text given to us is a complete scientific paper that could undergo further processing. If not, it would return an error and ask the user to download it and process it normally.\n",
    "\n",
    "Example:\n"
   ]
  },
  {
   "cell_type": "code",
   "execution_count": 2,
   "metadata": {},
   "outputs": [
    {
     "name": "stderr",
     "output_type": "stream",
     "text": [
      "INFO:spock_literature.utils.Url_downloader:Found PDF link: /content/10.1101/2024.11.11.622734v1.full.pdf\n",
      "INFO:spock_literature.utils.Url_downloader:https://www.biorxiv.org/content/10.1101/2024.11.11.622734v1.full.pdf\n",
      "INFO:spock_literature.utils.Url_downloader:PDF downloaded successfully to /home/youssef/clone/spock/examples/papers\n",
      "INFO:httpx:HTTP Request: POST https://api.openai.com/v1/chat/completions \"HTTP/1.1 200 OK\"\n",
      "INFO:spock_literature.utils.Url_downloader:Document is a complete scientific paper: True\n"
     ]
    }
   ],
   "source": [
    "# From preprints\n",
    "\n",
    "spock_arxiv = Spock(model='gpt-4o', publication_url=\"https://www.biorxiv.org/content/10.1101/2024.11.11.622734v1\", papers_download_path=os.getcwd()+\"/papers\")\n",
    "spock_arxiv.download_pdf()\n",
    "\n",
    "# From journals\n",
    "\n",
    "spock_journal = Spock(model='gpt-4o', publication_url=\"https://www.nature.com/articles/s41467-023-44599-9\")\n",
    "spock_journal.download_pdf() # Could not find the pdf link but judges that the article is complete and would put it's content in the paper attribute so it can go further with the analysis\n",
    "assert spock_journal.paper != \"\"\n",
    "\n"
   ]
  },
  {
   "cell_type": "markdown",
   "metadata": {},
   "source": [
    "### Summarize PDFs\n",
    "\n",
    "Spock can summarize PDFs for you. It would use a reduce chain to summarize the text in the PDF for better results, which might take a bit longer.\n",
    "\n",
    "Due to the time it takes to summarize a PDF, we would be using llama3.2:3b or GPT-3.5 Turbo for this task."
   ]
  },
  {
   "cell_type": "code",
   "execution_count": null,
   "metadata": {},
   "outputs": [
    {
     "name": "stderr",
     "output_type": "stream",
     "text": [
      "/home/youssef/clone/spock/spock_literature/spock.py:137: LangChainDeprecationWarning: The class `LLMChain` was deprecated in LangChain 0.1.17 and will be removed in 1.0. Use :meth:`~RunnableSequence, e.g., `prompt | llm`` instead.\n",
      "  map_chain = LLMChain(llm=llm, prompt=map_prompt)\n",
      "/home/youssef/clone/spock/spock_literature/spock.py:147: LangChainDeprecationWarning: This class is deprecated. Use the `create_stuff_documents_chain` constructor instead. See migration guide here: https://python.langchain.com/docs/versions/migrating_chains/stuff_docs_chain/\n",
      "  combine_documents_chain = StuffDocumentsChain(\n",
      "/home/youssef/clone/spock/spock_literature/spock.py:151: LangChainDeprecationWarning: This class is deprecated. Please see the migration guide here for a recommended replacement: https://python.langchain.com/docs/versions/migrating_chains/map_reduce_chain/\n",
      "  reduce_documents_chain = ReduceDocumentsChain(\n",
      "/home/youssef/clone/spock/spock_literature/spock.py:156: LangChainDeprecationWarning: This class is deprecated. Please see the migration guide here for a recommended replacement: https://python.langchain.com/docs/versions/migrating_chains/map_reduce_chain/\n",
      "  map_reduce_chain = MapReduceDocumentsChain(\n",
      "INFO:httpx:HTTP Request: POST https://api.openai.com/v1/chat/completions \"HTTP/1.1 200 OK\"\n",
      "INFO:httpx:HTTP Request: POST https://api.openai.com/v1/chat/completions \"HTTP/1.1 200 OK\"\n",
      "INFO:httpx:HTTP Request: POST https://api.openai.com/v1/chat/completions \"HTTP/1.1 200 OK\"\n",
      "INFO:httpx:HTTP Request: POST https://api.openai.com/v1/chat/completions \"HTTP/1.1 200 OK\"\n",
      "INFO:httpx:HTTP Request: POST https://api.openai.com/v1/chat/completions \"HTTP/1.1 200 OK\"\n",
      "INFO:httpx:HTTP Request: POST https://api.openai.com/v1/chat/completions \"HTTP/1.1 200 OK\"\n",
      "INFO:httpx:HTTP Request: POST https://api.openai.com/v1/chat/completions \"HTTP/1.1 200 OK\"\n",
      "INFO:httpx:HTTP Request: POST https://api.openai.com/v1/chat/completions \"HTTP/1.1 200 OK\"\n",
      "INFO:httpx:HTTP Request: POST https://api.openai.com/v1/chat/completions \"HTTP/1.1 200 OK\"\n",
      "INFO:httpx:HTTP Request: POST https://api.openai.com/v1/chat/completions \"HTTP/1.1 200 OK\"\n",
      "INFO:httpx:HTTP Request: POST https://api.openai.com/v1/chat/completions \"HTTP/1.1 200 OK\"\n",
      "INFO:httpx:HTTP Request: POST https://api.openai.com/v1/chat/completions \"HTTP/1.1 200 OK\"\n",
      "INFO:httpx:HTTP Request: POST https://api.openai.com/v1/chat/completions \"HTTP/1.1 200 OK\"\n",
      "INFO:httpx:HTTP Request: POST https://api.openai.com/v1/chat/completions \"HTTP/1.1 200 OK\"\n",
      "INFO:httpx:HTTP Request: POST https://api.openai.com/v1/chat/completions \"HTTP/1.1 200 OK\"\n",
      "INFO:httpx:HTTP Request: POST https://api.openai.com/v1/chat/completions \"HTTP/1.1 200 OK\"\n",
      "INFO:httpx:HTTP Request: POST https://api.openai.com/v1/chat/completions \"HTTP/1.1 200 OK\"\n",
      "INFO:httpx:HTTP Request: POST https://api.openai.com/v1/chat/completions \"HTTP/1.1 200 OK\"\n",
      "INFO:httpx:HTTP Request: POST https://api.openai.com/v1/chat/completions \"HTTP/1.1 200 OK\"\n",
      "INFO:httpx:HTTP Request: POST https://api.openai.com/v1/chat/completions \"HTTP/1.1 200 OK\"\n",
      "INFO:httpx:HTTP Request: POST https://api.openai.com/v1/chat/completions \"HTTP/1.1 200 OK\"\n",
      "INFO:httpx:HTTP Request: POST https://api.openai.com/v1/chat/completions \"HTTP/1.1 200 OK\"\n",
      "INFO:httpx:HTTP Request: POST https://api.openai.com/v1/chat/completions \"HTTP/1.1 200 OK\"\n",
      "INFO:httpx:HTTP Request: POST https://api.openai.com/v1/chat/completions \"HTTP/1.1 200 OK\"\n",
      "INFO:httpx:HTTP Request: POST https://api.openai.com/v1/chat/completions \"HTTP/1.1 200 OK\"\n",
      "INFO:httpx:HTTP Request: POST https://api.openai.com/v1/chat/completions \"HTTP/1.1 200 OK\"\n",
      "INFO:httpx:HTTP Request: POST https://api.openai.com/v1/chat/completions \"HTTP/1.1 200 OK\"\n",
      "INFO:httpx:HTTP Request: POST https://api.openai.com/v1/chat/completions \"HTTP/1.1 200 OK\"\n",
      "INFO:httpx:HTTP Request: POST https://api.openai.com/v1/chat/completions \"HTTP/1.1 200 OK\"\n",
      "INFO:httpx:HTTP Request: POST https://api.openai.com/v1/chat/completions \"HTTP/1.1 200 OK\"\n",
      "INFO:httpx:HTTP Request: POST https://api.openai.com/v1/chat/completions \"HTTP/1.1 200 OK\"\n"
     ]
    }
   ],
   "source": [
    "spock_journal.summarize()\n",
    "print(spock_journal.paper_summary)"
   ]
  },
  {
   "cell_type": "markdown",
   "metadata": {},
   "source": [
    "### Getting topics from PDFs\n",
    "\n",
    "Spock can also get topics from PDFs. It uses the summary of the PDF to get the topics."
   ]
  },
  {
   "cell_type": "code",
   "execution_count": 4,
   "metadata": {},
   "outputs": [
    {
     "name": "stderr",
     "output_type": "stream",
     "text": [
      "INFO:httpx:HTTP Request: POST https://api.openai.com/v1/chat/completions \"HTTP/1.1 200 OK\"\n"
     ]
    },
    {
     "name": "stdout",
     "output_type": "stream",
     "text": [
      "Scientific Research/Publishing/Author Services/Editorial Policies/Open Access/Research Data/Professional Development/Privacy Policies/Legal Notices/Accessibility/Language Editing/Funding/Editorial Values/Metrics/Social Media/Alerts/Search Functionality\n"
     ]
    }
   ],
   "source": [
    "spock_journal.get_topics()\n",
    "print(spock_journal.topics)"
   ]
  },
  {
   "cell_type": "markdown",
   "metadata": {},
   "source": [
    "### Adding custom questions\n",
    "\n",
    "Spock can also answer custom questions from the PDF. It uses an LLM to extract the topic of the question so it can be formatted properly."
   ]
  },
  {
   "cell_type": "code",
   "execution_count": 5,
   "metadata": {},
   "outputs": [
    {
     "name": "stderr",
     "output_type": "stream",
     "text": [
      "INFO:httpx:HTTP Request: POST https://api.openai.com/v1/chat/completions \"HTTP/1.1 200 OK\"\n",
      "INFO:httpx:HTTP Request: POST https://api.openai.com/v1/chat/completions \"HTTP/1.1 200 OK\"\n"
     ]
    }
   ],
   "source": [
    "spock_journal.custom_questions = [\"What is the main conclusion of the paper?\", \"What are the main results of the paper?\"] # Or be passed as a parameter in the constructor\n",
    "spock_journal.add_custom_questions()"
   ]
  },
  {
   "cell_type": "markdown",
   "metadata": {},
   "source": [
    "### Scan PDFs for metrics\n",
    "\n",
    "Spock can also scan PDFs for metrics. It also answers the custom questions from the PDF."
   ]
  },
  {
   "cell_type": "code",
   "execution_count": 6,
   "metadata": {},
   "outputs": [
    {
     "name": "stdout",
     "output_type": "stream",
     "text": [
      "Not a PDF file\n"
     ]
    },
    {
     "name": "stderr",
     "output_type": "stream",
     "text": [
      "INFO:httpx:HTTP Request: POST https://api.openai.com/v1/embeddings \"HTTP/1.1 200 OK\"\n",
      "INFO:httpx:HTTP Request: POST https://api.openai.com/v1/embeddings \"HTTP/1.1 200 OK\"\n",
      "INFO:httpx:HTTP Request: POST https://api.openai.com/v1/chat/completions \"HTTP/1.1 200 OK\"\n",
      "INFO:httpx:HTTP Request: POST https://api.openai.com/v1/embeddings \"HTTP/1.1 200 OK\"\n",
      "INFO:httpx:HTTP Request: POST https://api.openai.com/v1/chat/completions \"HTTP/1.1 200 OK\"\n",
      "INFO:httpx:HTTP Request: POST https://api.openai.com/v1/embeddings \"HTTP/1.1 200 OK\"\n",
      "INFO:httpx:HTTP Request: POST https://api.openai.com/v1/chat/completions \"HTTP/1.1 200 OK\"\n",
      "INFO:httpx:HTTP Request: POST https://api.openai.com/v1/embeddings \"HTTP/1.1 200 OK\"\n",
      "INFO:httpx:HTTP Request: POST https://api.openai.com/v1/chat/completions \"HTTP/1.1 200 OK\"\n",
      "INFO:httpx:HTTP Request: POST https://api.openai.com/v1/embeddings \"HTTP/1.1 200 OK\"\n",
      "INFO:httpx:HTTP Request: POST https://api.openai.com/v1/chat/completions \"HTTP/1.1 200 OK\"\n",
      "INFO:httpx:HTTP Request: POST https://api.openai.com/v1/embeddings \"HTTP/1.1 200 OK\"\n",
      "INFO:httpx:HTTP Request: POST https://api.openai.com/v1/chat/completions \"HTTP/1.1 200 OK\"\n",
      "INFO:httpx:HTTP Request: POST https://api.openai.com/v1/embeddings \"HTTP/1.1 200 OK\"\n",
      "INFO:httpx:HTTP Request: POST https://api.openai.com/v1/chat/completions \"HTTP/1.1 200 OK\"\n",
      "INFO:httpx:HTTP Request: POST https://api.openai.com/v1/embeddings \"HTTP/1.1 200 OK\"\n",
      "INFO:httpx:HTTP Request: POST https://api.openai.com/v1/chat/completions \"HTTP/1.1 200 OK\"\n",
      "INFO:httpx:HTTP Request: POST https://api.openai.com/v1/embeddings \"HTTP/1.1 200 OK\"\n",
      "INFO:httpx:HTTP Request: POST https://api.openai.com/v1/chat/completions \"HTTP/1.1 200 OK\"\n",
      "INFO:httpx:HTTP Request: POST https://api.openai.com/v1/embeddings \"HTTP/1.1 200 OK\"\n",
      "INFO:httpx:HTTP Request: POST https://api.openai.com/v1/chat/completions \"HTTP/1.1 200 OK\"\n",
      "INFO:httpx:HTTP Request: POST https://api.openai.com/v1/embeddings \"HTTP/1.1 200 OK\"\n",
      "INFO:httpx:HTTP Request: POST https://api.openai.com/v1/chat/completions \"HTTP/1.1 200 OK\"\n",
      "INFO:httpx:HTTP Request: POST https://api.openai.com/v1/embeddings \"HTTP/1.1 200 OK\"\n",
      "INFO:httpx:HTTP Request: POST https://api.openai.com/v1/chat/completions \"HTTP/1.1 200 OK\"\n"
     ]
    }
   ],
   "source": [
    "spock_journal.scan_pdf()"
   ]
  },
  {
   "cell_type": "markdown",
   "metadata": {},
   "source": [
    "### Format output\n",
    "Formatting the output response into Json format to make it easier to read and work with ."
   ]
  },
  {
   "cell_type": "code",
   "execution_count": 7,
   "metadata": {},
   "outputs": [
    {
     "name": "stdout",
     "output_type": "stream",
     "text": [
      "('📄 Summary of the Publication\\n'\n",
      " 'The main themes of the documents revolve around scientific research, '\n",
      " 'publishing, author services, editorial policies, and partnerships in the '\n",
      " 'field of science. Topics include journals, articles, research data, language '\n",
      " 'editing, professional development, privacy policies, legal notices, and '\n",
      " 'accessibility statements. The documents also cover open access fees, '\n",
      " 'funding, calls for papers, editorial values, metrics, and highlights, as '\n",
      " 'well as social media presence, alerts for updates, and search functionality '\n",
      " 'for articles.\\n'\n",
      " '━━━━━━━━━━━━━━━━━━━━━━━━━━━━\\n'\n",
      " '📝 Topics Covered in the Publication\\n'\n",
      " 'Scientific Research/Publishing/Author Services/Editorial Policies/Open '\n",
      " 'Access/Research Data/Professional Development/Privacy Policies/Legal '\n",
      " 'Notices/Accessibility/Language Editing/Funding/Editorial '\n",
      " 'Values/Metrics/Social Media/Alerts/Search Functionality\\n'\n",
      " '━━━━━━━━━━━━━━━━━━━━━━━━━━━━\\n'\n",
      " '❓ Question: new materials\\n'\n",
      " '💡 Answer: NA\\n'\n",
      " '🔎 Supporting Sentence: None\\n'\n",
      " '━━━━━━━━━━━━━━━━━━━━━━━━━━━━\\n'\n",
      " '❓ Question: screening algorithms\\n'\n",
      " '💡 Answer: NA\\n'\n",
      " '🔎 Supporting Sentence: None\\n'\n",
      " '━━━━━━━━━━━━━━━━━━━━━━━━━━━━\\n'\n",
      " '❓ Question: experimental methodology\\n'\n",
      " '💡 Answer: NA\\n'\n",
      " '🔎 Supporting Sentence: None\\n'\n",
      " '━━━━━━━━━━━━━━━━━━━━━━━━━━━━\\n'\n",
      " '❓ Question: ML algirothms\\n'\n",
      " '💡 Answer: No\\n'\n",
      " '🔎 Supporting Sentence: NA\\n'\n",
      " '━━━━━━━━━━━━━━━━━━━━━━━━━━━━\\n'\n",
      " '❓ Question: models\\n'\n",
      " '💡 Answer: Yes\\n'\n",
      " '🔎 Supporting Sentence: This work is part of a series of papers introducing a '\n",
      " 'holistic approach to lab automation by including all aspects of research '\n",
      " 'laboratories (see Fig. 1a) in an all-encompassing digital twin36.\\n'\n",
      " '━━━━━━━━━━━━━━━━━━━━━━━━━━━━\\n'\n",
      " '❓ Question: funding\\n'\n",
      " '💡 Answer: Yes\\n'\n",
      " \"🔎 Supporting Sentence: 'This research was supported by the National Research \"\n",
      " 'Foundation, Prime Minister’s Office, Singapore, under its Campus for '\n",
      " 'Research Excellence and Technological Enterprise (CREATE) programme, and '\n",
      " 'Pharma Innovation Platform Singapore (PIPS) via grant to CARES Ltd '\n",
      " \"“Data2Knowledge, C12”.'\\n\"\n",
      " '━━━━━━━━━━━━━━━━━━━━━━━━━━━━\\n'\n",
      " '❓ Question: material datasets\\n'\n",
      " '💡 Answer: NA\\n'\n",
      " '🔎 Supporting Sentence: None\\n'\n",
      " '━━━━━━━━━━━━━━━━━━━━━━━━━━━━\\n'\n",
      " '❓ Question: drug formulations explored\\n'\n",
      " '💡 Answer: No\\n'\n",
      " '🔎 Supporting Sentence: NA\\n'\n",
      " '━━━━━━━━━━━━━━━━━━━━━━━━━━━━\\n'\n",
      " '❓ Question: lead small-molecule drug candidates\\n'\n",
      " '💡 Answer: No\\n'\n",
      " '🔎 Supporting Sentence: NA\\n'\n",
      " '━━━━━━━━━━━━━━━━━━━━━━━━━━━━\\n'\n",
      " '❓ Question: clinical trials\\n'\n",
      " '💡 Answer: NA\\n'\n",
      " '🔎 Supporting Sentence: None\\n'\n",
      " '━━━━━━━━━━━━━━━━━━━━━━━━━━━━\\n'\n",
      " '❓ Question: main conclusion\\n'\n",
      " '💡 Answer: NA\\n'\n",
      " '🔎 Supporting Sentence: None\\n'\n",
      " '━━━━━━━━━━━━━━━━━━━━━━━━━━━━\\n'\n",
      " '❓ Question: main results\\n'\n",
      " '💡 Answer: NA\\n'\n",
      " '🔎 Supporting Sentence: None\\n'\n",
      " '━━━━━━━━━━━━━━━━━━━━━━━━━━━━')\n"
     ]
    }
   ],
   "source": [
    "pp.pprint(spock_journal.format_output())"
   ]
  },
  {
   "cell_type": "markdown",
   "metadata": {},
   "source": [
    "### Or just call the instance\n",
    "\n",
    "Spock can also be called directly to do all the tasks at once. The call special method is implemented to do this."
   ]
  },
  {
   "cell_type": "code",
   "execution_count": 8,
   "metadata": {},
   "outputs": [
    {
     "name": "stderr",
     "output_type": "stream",
     "text": [
      "INFO:httpx:HTTP Request: POST https://api.openai.com/v1/embeddings \"HTTP/1.1 200 OK\"\n",
      "INFO:httpx:HTTP Request: POST https://api.openai.com/v1/embeddings \"HTTP/1.1 200 OK\"\n",
      "INFO:httpx:HTTP Request: POST https://api.openai.com/v1/chat/completions \"HTTP/1.1 200 OK\"\n",
      "INFO:httpx:HTTP Request: POST https://api.openai.com/v1/embeddings \"HTTP/1.1 200 OK\"\n",
      "INFO:httpx:HTTP Request: POST https://api.openai.com/v1/chat/completions \"HTTP/1.1 200 OK\"\n",
      "INFO:httpx:HTTP Request: POST https://api.openai.com/v1/embeddings \"HTTP/1.1 200 OK\"\n",
      "INFO:httpx:HTTP Request: POST https://api.openai.com/v1/chat/completions \"HTTP/1.1 200 OK\"\n",
      "INFO:httpx:HTTP Request: POST https://api.openai.com/v1/embeddings \"HTTP/1.1 200 OK\"\n",
      "INFO:httpx:HTTP Request: POST https://api.openai.com/v1/chat/completions \"HTTP/1.1 200 OK\"\n",
      "INFO:httpx:HTTP Request: POST https://api.openai.com/v1/embeddings \"HTTP/1.1 200 OK\"\n",
      "INFO:httpx:HTTP Request: POST https://api.openai.com/v1/chat/completions \"HTTP/1.1 200 OK\"\n",
      "INFO:httpx:HTTP Request: POST https://api.openai.com/v1/embeddings \"HTTP/1.1 200 OK\"\n",
      "INFO:httpx:HTTP Request: POST https://api.openai.com/v1/chat/completions \"HTTP/1.1 200 OK\"\n",
      "INFO:httpx:HTTP Request: POST https://api.openai.com/v1/embeddings \"HTTP/1.1 200 OK\"\n",
      "INFO:httpx:HTTP Request: POST https://api.openai.com/v1/chat/completions \"HTTP/1.1 200 OK\"\n",
      "INFO:httpx:HTTP Request: POST https://api.openai.com/v1/embeddings \"HTTP/1.1 200 OK\"\n",
      "INFO:httpx:HTTP Request: POST https://api.openai.com/v1/chat/completions \"HTTP/1.1 200 OK\"\n",
      "INFO:httpx:HTTP Request: POST https://api.openai.com/v1/embeddings \"HTTP/1.1 200 OK\"\n",
      "INFO:httpx:HTTP Request: POST https://api.openai.com/v1/chat/completions \"HTTP/1.1 200 OK\"\n",
      "INFO:httpx:HTTP Request: POST https://api.openai.com/v1/embeddings \"HTTP/1.1 200 OK\"\n",
      "INFO:httpx:HTTP Request: POST https://api.openai.com/v1/chat/completions \"HTTP/1.1 200 OK\"\n",
      "INFO:httpx:HTTP Request: POST https://api.openai.com/v1/embeddings \"HTTP/1.1 200 OK\"\n",
      "INFO:httpx:HTTP Request: POST https://api.openai.com/v1/chat/completions \"HTTP/1.1 200 OK\"\n",
      "INFO:httpx:HTTP Request: POST https://api.openai.com/v1/embeddings \"HTTP/1.1 200 OK\"\n",
      "INFO:httpx:HTTP Request: POST https://api.openai.com/v1/chat/completions \"HTTP/1.1 200 OK\"\n",
      "INFO:httpx:HTTP Request: POST https://api.openai.com/v1/chat/completions \"HTTP/1.1 200 OK\"\n",
      "INFO:httpx:HTTP Request: POST https://api.openai.com/v1/chat/completions \"HTTP/1.1 200 OK\"\n",
      "INFO:httpx:HTTP Request: POST https://api.openai.com/v1/chat/completions \"HTTP/1.1 200 OK\"\n",
      "INFO:httpx:HTTP Request: POST https://api.openai.com/v1/chat/completions \"HTTP/1.1 200 OK\"\n",
      "INFO:httpx:HTTP Request: POST https://api.openai.com/v1/chat/completions \"HTTP/1.1 200 OK\"\n",
      "INFO:httpx:HTTP Request: POST https://api.openai.com/v1/chat/completions \"HTTP/1.1 200 OK\"\n",
      "INFO:httpx:HTTP Request: POST https://api.openai.com/v1/chat/completions \"HTTP/1.1 200 OK\"\n",
      "INFO:httpx:HTTP Request: POST https://api.openai.com/v1/chat/completions \"HTTP/1.1 200 OK\"\n",
      "INFO:httpx:HTTP Request: POST https://api.openai.com/v1/chat/completions \"HTTP/1.1 200 OK\"\n",
      "INFO:httpx:HTTP Request: POST https://api.openai.com/v1/chat/completions \"HTTP/1.1 200 OK\"\n",
      "INFO:httpx:HTTP Request: POST https://api.openai.com/v1/chat/completions \"HTTP/1.1 200 OK\"\n",
      "INFO:httpx:HTTP Request: POST https://api.openai.com/v1/chat/completions \"HTTP/1.1 200 OK\"\n",
      "INFO:httpx:HTTP Request: POST https://api.openai.com/v1/chat/completions \"HTTP/1.1 200 OK\"\n",
      "INFO:httpx:HTTP Request: POST https://api.openai.com/v1/chat/completions \"HTTP/1.1 200 OK\"\n",
      "INFO:httpx:HTTP Request: POST https://api.openai.com/v1/chat/completions \"HTTP/1.1 200 OK\"\n",
      "INFO:httpx:HTTP Request: POST https://api.openai.com/v1/chat/completions \"HTTP/1.1 200 OK\"\n",
      "INFO:httpx:HTTP Request: POST https://api.openai.com/v1/chat/completions \"HTTP/1.1 200 OK\"\n",
      "INFO:httpx:HTTP Request: POST https://api.openai.com/v1/chat/completions \"HTTP/1.1 200 OK\"\n",
      "INFO:httpx:HTTP Request: POST https://api.openai.com/v1/chat/completions \"HTTP/1.1 200 OK\"\n",
      "INFO:httpx:HTTP Request: POST https://api.openai.com/v1/chat/completions \"HTTP/1.1 200 OK\"\n",
      "INFO:httpx:HTTP Request: POST https://api.openai.com/v1/chat/completions \"HTTP/1.1 200 OK\"\n",
      "INFO:httpx:HTTP Request: POST https://api.openai.com/v1/chat/completions \"HTTP/1.1 200 OK\"\n",
      "INFO:httpx:HTTP Request: POST https://api.openai.com/v1/chat/completions \"HTTP/1.1 200 OK\"\n",
      "INFO:httpx:HTTP Request: POST https://api.openai.com/v1/chat/completions \"HTTP/1.1 200 OK\"\n",
      "INFO:httpx:HTTP Request: POST https://api.openai.com/v1/chat/completions \"HTTP/1.1 200 OK\"\n",
      "INFO:httpx:HTTP Request: POST https://api.openai.com/v1/chat/completions \"HTTP/1.1 200 OK\"\n"
     ]
    },
    {
     "name": "stdout",
     "output_type": "stream",
     "text": [
      "('📄 Summary of the Publication\\n'\n",
      " 'The main themes across the provided summaries revolve around the application '\n",
      " 'of deep learning and machine learning algorithms in bioinformatics, '\n",
      " 'specifically focusing on peptide and protein properties prediction. These '\n",
      " 'themes include the prediction of hemolytic activity, solubility, '\n",
      " 'antimicrobial properties, and antioxidant activity of peptides. The use of '\n",
      " 'recurrent neural networks, LSTM models, and deep learning frameworks like '\n",
      " 'Keras and TensorFlow is highlighted, along with the importance of model '\n",
      " 'transparency, evaluation metrics, and protein engineering for drug '\n",
      " 'discovery. Additionally, the summaries touch on the utilization of '\n",
      " 'databases, resources, and predictive models for various biological '\n",
      " 'activities, showcasing the advancements in computational methods for '\n",
      " 'bioinformatics research.\\n'\n",
      " '━━━━━━━━━━━━━━━━━━━━━━━━━━━━\\n'\n",
      " '📝 Topics Covered in the Publication\\n'\n",
      " 'None\\n'\n",
      " '━━━━━━━━━━━━━━━━━━━━━━━━━━━━\\n'\n",
      " '❓ Question: new materials\\n'\n",
      " '💡 Answer: NA\\n'\n",
      " '🔎 Supporting Sentence: None\\n'\n",
      " '━━━━━━━━━━━━━━━━━━━━━━━━━━━━\\n'\n",
      " '❓ Question: screening algorithms\\n'\n",
      " '💡 Answer: NA\\n'\n",
      " '🔎 Supporting Sentence: None\\n'\n",
      " '━━━━━━━━━━━━━━━━━━━━━━━━━━━━\\n'\n",
      " '❓ Question: experimental methodology\\n'\n",
      " '💡 Answer: NA\\n'\n",
      " '🔎 Supporting Sentence: None\\n'\n",
      " '━━━━━━━━━━━━━━━━━━━━━━━━━━━━\\n'\n",
      " '❓ Question: ML algirothms\\n'\n",
      " '💡 Answer: No\\n'\n",
      " '🔎 Supporting Sentence: NA\\n'\n",
      " '━━━━━━━━━━━━━━━━━━━━━━━━━━━━\\n'\n",
      " '❓ Question: models\\n'\n",
      " '💡 Answer: Yes\\n'\n",
      " '🔎 Supporting Sentence: DSResSol (1) takes advantage of the integration of '\n",
      " 'Squeeze-and-Excitation (SE)65 residual networks66 with dilated convolutional '\n",
      " 'neural networks.67\\n'\n",
      " '━━━━━━━━━━━━━━━━━━━━━━━━━━━━\\n'\n",
      " '❓ Question: funding\\n'\n",
      " '💡 Answer: Yes\\n'\n",
      " '🔎 Supporting Sentence: Research reported inthisworkwassupported '\n",
      " 'bytheNational Institute ofGeneral Medical Sciences ofthe National Institutes '\n",
      " 'ofHealth underawardnumber R35GM137966.\\n'\n",
      " '━━━━━━━━━━━━━━━━━━━━━━━━━━━━\\n'\n",
      " '❓ Question: material datasets\\n'\n",
      " '💡 Answer: No\\n'\n",
      " '🔎 Supporting Sentence: NA\\n'\n",
      " '━━━━━━━━━━━━━━━━━━━━━━━━━━━━\\n'\n",
      " '❓ Question: drug formulations explored\\n'\n",
      " '💡 Answer: NA\\n'\n",
      " '🔎 Supporting Sentence: None\\n'\n",
      " '━━━━━━━━━━━━━━━━━━━━━━━━━━━━\\n'\n",
      " '❓ Question: lead small-molecule drug candidates\\n'\n",
      " '💡 Answer: No\\n'\n",
      " '🔎 Supporting Sentence: None\\n'\n",
      " '━━━━━━━━━━━━━━━━━━━━━━━━━━━━\\n'\n",
      " '❓ Question: clinical trials\\n'\n",
      " '💡 Answer: NA\\n'\n",
      " '🔎 Supporting Sentence: None\\n'\n",
      " '━━━━━━━━━━━━━━━━━━━━━━━━━━━━\\n'\n",
      " '❓ Question: main conclusion\\n'\n",
      " '💡 Answer: NA\\n'\n",
      " '🔎 Supporting Sentence: None\\n'\n",
      " '━━━━━━━━━━━━━━━━━━━━━━━━━━━━\\n'\n",
      " '❓ Question: main results\\n'\n",
      " '💡 Answer: NA\\n'\n",
      " '🔎 Supporting Sentence: None\\n'\n",
      " '━━━━━━━━━━━━━━━━━━━━━━━━━━━━')\n"
     ]
    }
   ],
   "source": [
    "spock = Spock(model='gpt-4o', paper=\"ansari-white-2023-serverless-prediction-of-peptide-properties-with-recurrent-neural-networks.pdf\", papers_download_path=os.getcwd()+\"/papers\")\n",
    "spock()\n",
    "pp.pprint(spock.format_output())"
   ]
  }
 ],
 "metadata": {
  "kernelspec": {
   "display_name": "spock_package",
   "language": "python",
   "name": "python3"
  },
  "language_info": {
   "codemirror_mode": {
    "name": "ipython",
    "version": 3
   },
   "file_extension": ".py",
   "mimetype": "text/x-python",
   "name": "python",
   "nbconvert_exporter": "python",
   "pygments_lexer": "ipython3",
   "version": "3.11.9"
  }
 },
 "nbformat": 4,
 "nbformat_minor": 2
}
