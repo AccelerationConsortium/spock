{
 "cells": [
  {
   "cell_type": "code",
   "execution_count": 1,
   "metadata": {
    "vscode": {
     "languageId": "markdown"
    }
   },
   "outputs": [
    {
     "ename": "",
     "evalue": "",
     "output_type": "error",
     "traceback": [
      "\u001b[1;31mRunning cells with 'new_spock_venv (Python 3.9.18)' requires the ipykernel package.\n",
      "\u001b[1;31mRun the following command to install 'ipykernel' into the Python environment. \n",
      "\u001b[1;31mCommand: '/home/m/mehrad/brikiyou/scratch/new_spock_venv/bin/python3.9 -m pip install ipykernel -U --force-reinstall'"
     ]
    }
   ],
   "source": [
    "# Spock Demo\n",
    "\n",
    "\n",
    "### Initializing Spock\n",
    "\n",
    "# For the sake of this demo, we will use the Llama 3.3 model and llamaEmbedding tools\n",
    "\n"
   ]
  },
  {
   "cell_type": "code",
   "execution_count": null,
   "metadata": {},
   "outputs": [],
   "source": [
    "from spock_literature.spock import Spock\n",
    "from langchain.embeddings import OllamaEmbeddings\n",
    "\n",
    "spock = Spock(paper=\"ansari-white-2023-serverless-prediction-of-peptide-properties-with-recurrent-neural-networks.pdf\")"
   ]
  },
  {
   "cell_type": "markdown",
   "metadata": {},
   "source": [
    "## Downloading PDF\n",
    "\n",
    "Since the paper that we already inputed is already there, we won't need anything to do\n",
    "\n",
    "but here is a quick demo on how you can install a paper, here we would be using "
   ]
  },
  {
   "cell_type": "markdown",
   "metadata": {},
   "source": [
    "## Add custom questions\n",
    "\n"
   ]
  },
  {
   "cell_type": "markdown",
   "metadata": {},
   "source": [
    "## Summerize PDF"
   ]
  },
  {
   "cell_type": "markdown",
   "metadata": {},
   "source": [
    "## Scan pdf"
   ]
  },
  {
   "cell_type": "markdown",
   "metadata": {},
   "source": [
    "## Formatted response"
   ]
  },
  {
   "cell_type": "markdown",
   "metadata": {},
   "source": [
    "## or just call it - Spock"
   ]
  },
  {
   "cell_type": "code",
   "execution_count": null,
   "metadata": {},
   "outputs": [],
   "source": []
  },
  {
   "cell_type": "markdown",
   "metadata": {},
   "source": []
  }
 ],
 "metadata": {
  "kernelspec": {
   "display_name": "new_spock_venv",
   "language": "python",
   "name": "python3"
  },
  "language_info": {
   "codemirror_mode": {
    "name": "ipython",
    "version": 3
   },
   "file_extension": ".py",
   "mimetype": "text/x-python",
   "name": "python",
   "nbconvert_exporter": "python",
   "pygments_lexer": "ipython3",
   "version": "3.9.18"
  },
  "orig_nbformat": 4
 },
 "nbformat": 4,
 "nbformat_minor": 2
}
