{
 "cells": [
  {
   "cell_type": "markdown",
   "metadata": {},
   "source": [
    "# Spock Quick start\n",
    "\n",
    "This notebook is a quick start guide to Spock.\n",
    "\n",
    "First, download it through pip:\n",
    "\n",
    "```bash\n",
    "\n",
    "pip install spock_literature\n",
    "```\n",
    "\n"
   ]
  },
  {
   "cell_type": "markdown",
   "metadata": {},
   "source": [
    "### For GPT-4o"
   ]
  },
  {
   "cell_type": "markdown",
   "metadata": {},
   "source": [
    "#### Set up\n",
    "```bash\n",
    "\n",
    "export OPENAI_API_KEY=your-api-key\n",
    "```\n",
    "\n",
    "or create a `.env` file in the root of your project with the following content:\n",
    "\n",
    "```\n",
    "OPENAI_API_KEY=your-api-key\n",
    "```\n"
   ]
  },
  {
   "cell_type": "code",
   "execution_count": null,
   "metadata": {},
   "outputs": [],
   "source": [
    "from spock_literature.spock import Spock\n",
    "import pprint as pp"
   ]
  },
  {
   "cell_type": "code",
   "execution_count": null,
   "metadata": {},
   "outputs": [],
   "source": [
    "\n",
    "\n",
    "\n",
    "spock = Spock(model=\"gpt-4o\", paper=\"data-sample\", custom_questions=[\"What is the main contribution of this paper?\", \"What is the main limitation of this paper?\", \"What is the main future work of this paper?\"])\n",
    "              \n",
    "              \n",
    "spock()\n",
    "pp.pprint(spock.format_output())    "
   ]
  },
  {
   "cell_type": "markdown",
   "metadata": {},
   "source": [
    "### Running with llama3.3 model (Ollama)"
   ]
  },
  {
   "cell_type": "markdown",
   "metadata": {},
   "source": [
    "#### Initializing the server"
   ]
  },
  {
   "cell_type": "code",
   "execution_count": null,
   "metadata": {},
   "outputs": [],
   "source": [
    "!ollama serve > ollama.log 2>&1 &\n",
    "!ollama install llama3.3"
   ]
  },
  {
   "cell_type": "code",
   "execution_count": null,
   "metadata": {},
   "outputs": [],
   "source": [
    "spock_llama = Spock(paper=\"ansari-white-2023-serverless-prediction-of-peptide-properties-with-recurrent-neural-networks.pdf\", custom_questions=[\"What is the main contribution of this paper?\", \"What is the main limitation of this paper?\", \"What is the main future work of this paper?\"])\n",
    "spock_llama()\n",
    "pp.pprint(spock_llama.format_output())\n"
   ]
  }
 ],
 "metadata": {
  "kernelspec": {
   "display_name": "new_spock_venv_2",
   "language": "python",
   "name": "python3"
  },
  "language_info": {
   "codemirror_mode": {
    "name": "ipython",
    "version": 3
   },
   "file_extension": ".py",
   "mimetype": "text/x-python",
   "name": "python",
   "nbconvert_exporter": "python",
   "pygments_lexer": "ipython3",
   "version": "3.11.5"
  }
 },
 "nbformat": 4,
 "nbformat_minor": 2
}
