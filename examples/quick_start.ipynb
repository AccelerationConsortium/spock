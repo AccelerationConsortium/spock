{
 "cells": [
  {
   "cell_type": "markdown",
   "metadata": {},
   "source": [
    "# Spock Quick start\n",
    "\n",
    "This notebook is a quick start guide to Spock.\n",
    "\n",
    "First, download it through pip:\n",
    "\n",
    "```bash\n",
    "\n",
    "pip install spock_literature\n",
    "```\n",
    "\n"
   ]
  },
  {
   "cell_type": "markdown",
   "metadata": {},
   "source": [
    "### For GPT-4o"
   ]
  },
  {
   "cell_type": "markdown",
   "metadata": {},
   "source": [
    "#### Set up\n",
    "```bash\n",
    "\n",
    "export OPENAI_API_KEY=your-api-key\n",
    "```\n",
    "\n",
    "or create a `.env` file in the root of your project with the following content:\n",
    "\n",
    "```\n",
    "OPENAI_API_KEY=your-api-key\n",
    "```\n"
   ]
  },
  {
   "cell_type": "code",
   "execution_count": 5,
   "metadata": {},
   "outputs": [],
   "source": [
    "from spock_literature.spock import Spock\n",
    "import pprint as pp"
   ]
  },
  {
   "cell_type": "code",
   "execution_count": 6,
   "metadata": {},
   "outputs": [
    {
     "name": "stderr",
     "output_type": "stream",
     "text": [
      "INFO:httpx:HTTP Request: POST https://api.openai.com/v1/chat/completions \"HTTP/1.1 200 OK\"\n",
      "INFO:httpx:HTTP Request: POST https://api.openai.com/v1/chat/completions \"HTTP/1.1 200 OK\"\n",
      "INFO:httpx:HTTP Request: POST https://api.openai.com/v1/chat/completions \"HTTP/1.1 200 OK\"\n",
      "INFO:httpx:HTTP Request: POST https://api.openai.com/v1/embeddings \"HTTP/1.1 200 OK\"\n",
      "INFO:httpx:HTTP Request: POST https://api.openai.com/v1/embeddings \"HTTP/1.1 200 OK\"\n",
      "INFO:httpx:HTTP Request: POST https://api.openai.com/v1/chat/completions \"HTTP/1.1 200 OK\"\n",
      "INFO:httpx:HTTP Request: POST https://api.openai.com/v1/embeddings \"HTTP/1.1 200 OK\"\n",
      "INFO:httpx:HTTP Request: POST https://api.openai.com/v1/chat/completions \"HTTP/1.1 200 OK\"\n",
      "INFO:httpx:HTTP Request: POST https://api.openai.com/v1/embeddings \"HTTP/1.1 200 OK\"\n",
      "INFO:httpx:HTTP Request: POST https://api.openai.com/v1/chat/completions \"HTTP/1.1 200 OK\"\n",
      "INFO:httpx:HTTP Request: POST https://api.openai.com/v1/embeddings \"HTTP/1.1 200 OK\"\n",
      "INFO:httpx:HTTP Request: POST https://api.openai.com/v1/chat/completions \"HTTP/1.1 200 OK\"\n",
      "INFO:httpx:HTTP Request: POST https://api.openai.com/v1/embeddings \"HTTP/1.1 200 OK\"\n",
      "INFO:httpx:HTTP Request: POST https://api.openai.com/v1/chat/completions \"HTTP/1.1 200 OK\"\n",
      "INFO:httpx:HTTP Request: POST https://api.openai.com/v1/embeddings \"HTTP/1.1 200 OK\"\n",
      "INFO:httpx:HTTP Request: POST https://api.openai.com/v1/chat/completions \"HTTP/1.1 200 OK\"\n",
      "INFO:httpx:HTTP Request: POST https://api.openai.com/v1/embeddings \"HTTP/1.1 200 OK\"\n",
      "INFO:httpx:HTTP Request: POST https://api.openai.com/v1/chat/completions \"HTTP/1.1 200 OK\"\n",
      "INFO:httpx:HTTP Request: POST https://api.openai.com/v1/embeddings \"HTTP/1.1 200 OK\"\n",
      "INFO:httpx:HTTP Request: POST https://api.openai.com/v1/chat/completions \"HTTP/1.1 200 OK\"\n",
      "INFO:httpx:HTTP Request: POST https://api.openai.com/v1/embeddings \"HTTP/1.1 200 OK\"\n",
      "INFO:httpx:HTTP Request: POST https://api.openai.com/v1/chat/completions \"HTTP/1.1 200 OK\"\n",
      "INFO:httpx:HTTP Request: POST https://api.openai.com/v1/embeddings \"HTTP/1.1 200 OK\"\n",
      "INFO:httpx:HTTP Request: POST https://api.openai.com/v1/chat/completions \"HTTP/1.1 200 OK\"\n",
      "INFO:httpx:HTTP Request: POST https://api.openai.com/v1/embeddings \"HTTP/1.1 200 OK\"\n",
      "INFO:httpx:HTTP Request: POST https://api.openai.com/v1/chat/completions \"HTTP/1.1 200 OK\"\n",
      "INFO:httpx:HTTP Request: POST https://api.openai.com/v1/embeddings \"HTTP/1.1 200 OK\"\n",
      "INFO:httpx:HTTP Request: POST https://api.openai.com/v1/chat/completions \"HTTP/1.1 200 OK\"\n",
      "INFO:httpx:HTTP Request: POST https://api.openai.com/v1/embeddings \"HTTP/1.1 200 OK\"\n",
      "INFO:httpx:HTTP Request: POST https://api.openai.com/v1/chat/completions \"HTTP/1.1 200 OK\"\n",
      "INFO:httpx:HTTP Request: POST https://api.openai.com/v1/chat/completions \"HTTP/1.1 200 OK\"\n",
      "INFO:httpx:HTTP Request: POST https://api.openai.com/v1/chat/completions \"HTTP/1.1 200 OK\"\n",
      "INFO:httpx:HTTP Request: POST https://api.openai.com/v1/chat/completions \"HTTP/1.1 200 OK\"\n",
      "INFO:httpx:HTTP Request: POST https://api.openai.com/v1/chat/completions \"HTTP/1.1 200 OK\"\n",
      "INFO:httpx:HTTP Request: POST https://api.openai.com/v1/chat/completions \"HTTP/1.1 200 OK\"\n",
      "INFO:httpx:HTTP Request: POST https://api.openai.com/v1/chat/completions \"HTTP/1.1 200 OK\"\n",
      "INFO:httpx:HTTP Request: POST https://api.openai.com/v1/chat/completions \"HTTP/1.1 200 OK\"\n",
      "INFO:httpx:HTTP Request: POST https://api.openai.com/v1/chat/completions \"HTTP/1.1 200 OK\"\n",
      "INFO:httpx:HTTP Request: POST https://api.openai.com/v1/chat/completions \"HTTP/1.1 200 OK\"\n",
      "INFO:httpx:HTTP Request: POST https://api.openai.com/v1/chat/completions \"HTTP/1.1 200 OK\"\n",
      "INFO:httpx:HTTP Request: POST https://api.openai.com/v1/chat/completions \"HTTP/1.1 200 OK\"\n",
      "INFO:httpx:HTTP Request: POST https://api.openai.com/v1/chat/completions \"HTTP/1.1 200 OK\"\n",
      "INFO:httpx:HTTP Request: POST https://api.openai.com/v1/chat/completions \"HTTP/1.1 200 OK\"\n",
      "INFO:httpx:HTTP Request: POST https://api.openai.com/v1/chat/completions \"HTTP/1.1 200 OK\"\n",
      "INFO:httpx:HTTP Request: POST https://api.openai.com/v1/chat/completions \"HTTP/1.1 200 OK\"\n",
      "INFO:httpx:HTTP Request: POST https://api.openai.com/v1/chat/completions \"HTTP/1.1 200 OK\"\n",
      "INFO:httpx:HTTP Request: POST https://api.openai.com/v1/chat/completions \"HTTP/1.1 200 OK\"\n",
      "INFO:httpx:HTTP Request: POST https://api.openai.com/v1/chat/completions \"HTTP/1.1 200 OK\"\n",
      "INFO:httpx:HTTP Request: POST https://api.openai.com/v1/chat/completions \"HTTP/1.1 200 OK\"\n",
      "INFO:httpx:HTTP Request: POST https://api.openai.com/v1/chat/completions \"HTTP/1.1 200 OK\"\n",
      "INFO:httpx:HTTP Request: POST https://api.openai.com/v1/chat/completions \"HTTP/1.1 200 OK\"\n",
      "INFO:httpx:HTTP Request: POST https://api.openai.com/v1/chat/completions \"HTTP/1.1 200 OK\"\n",
      "INFO:httpx:HTTP Request: POST https://api.openai.com/v1/chat/completions \"HTTP/1.1 200 OK\"\n",
      "INFO:httpx:HTTP Request: POST https://api.openai.com/v1/chat/completions \"HTTP/1.1 200 OK\"\n",
      "INFO:httpx:HTTP Request: POST https://api.openai.com/v1/chat/completions \"HTTP/1.1 200 OK\"\n",
      "INFO:httpx:HTTP Request: POST https://api.openai.com/v1/chat/completions \"HTTP/1.1 200 OK\"\n"
     ]
    },
    {
     "name": "stdout",
     "output_type": "stream",
     "text": [
      "('📄 Summary of the Publication\\n'\n",
      " 'The main themes identified in the set of summaries include the prediction of '\n",
      " 'peptide properties such as antioxidant activity, solubility, and hemolytic '\n",
      " 'activity. Other key themes include the use of machine learning and deep '\n",
      " 'learning frameworks in bioinformatics, protein engineering, and drug '\n",
      " 'discovery. Additionally, topics such as antimicrobial peptide design, '\n",
      " 'protein structure prediction, and the application of LSTM networks in neural '\n",
      " 'computation are highlighted. The importance of model reporting, '\n",
      " 'transparency, and the use of advanced network architectures for efficient '\n",
      " 'prediction models are also prominent themes throughout the summaries.\\n'\n",
      " '━━━━━━━━━━━━━━━━━━━━━━━━━━━━\\n'\n",
      " '📝 Topics Covered in the Publication\\n'\n",
      " 'Peptide Prediction/Bioinformatics/Protein Engineering/Drug Discovery/Machine '\n",
      " 'Learning/Deep Learning/Antimicrobial Peptides/Protein Structure '\n",
      " 'Prediction/Neural Computation/Model Transparency/Network Architectures\\n'\n",
      " '━━━━━━━━━━━━━━━━━━━━━━━━━━━━\\n'\n",
      " '❓ Question: new materials\\n'\n",
      " '💡 Answer: NA\\n'\n",
      " '🔎 Supporting Sentence: None\\n'\n",
      " '━━━━━━━━━━━━━━━━━━━━━━━━━━━━\\n'\n",
      " '❓ Question: screening algorithms\\n'\n",
      " '💡 Answer: NA\\n'\n",
      " '🔎 Supporting Sentence: None\\n'\n",
      " '━━━━━━━━━━━━━━━━━━━━━━━━━━━━\\n'\n",
      " '❓ Question: experimental methodology\\n'\n",
      " '💡 Answer: NA\\n'\n",
      " '🔎 Supporting Sentence: None\\n'\n",
      " '━━━━━━━━━━━━━━━━━━━━━━━━━━━━\\n'\n",
      " '❓ Question: ML algirothms\\n'\n",
      " '💡 Answer: Yes\\n'\n",
      " '🔎 Supporting Sentence: DSResSol (1) takesadvantage oftheintegration '\n",
      " 'ofSqueeze-and-Excitation (SE)65residual networks66withdilatedconvolutional '\n",
      " 'neural networks.67Specifically, themodelincludes fivearchitectural '\n",
      " 'units,including asingleembedding layer,nineparallelinitial CNNswithdifferent '\n",
      " 'filtersizes,nineparallel SE-ResNet '\n",
      " 'blocks,threeparallelCNNs,andfullyconnected layers.\\n'\n",
      " '━━━━━━━━━━━━━━━━━━━━━━━━━━━━\\n'\n",
      " '❓ Question: models\\n'\n",
      " '💡 Answer: Yes\\n'\n",
      " '🔎 Supporting Sentence: DSResSol (1) takes advantage of the integration of '\n",
      " 'Squeeze-and-Excitation (SE)65 residual networks66 with dilated convolutional '\n",
      " 'neural networks.67\\n'\n",
      " '━━━━━━━━━━━━━━━━━━━━━━━━━━━━\\n'\n",
      " '❓ Question: funding\\n'\n",
      " '💡 Answer: Yes\\n'\n",
      " '🔎 Supporting Sentence: Research reported inthisworkwassupported '\n",
      " 'bytheNational Institute ofGeneral Medical Sciences ofthe National Institutes '\n",
      " 'ofHealth underawardnumber R35GM137966.\\n'\n",
      " '━━━━━━━━━━━━━━━━━━━━━━━━━━━━\\n'\n",
      " '❓ Question: material datasets\\n'\n",
      " '💡 Answer: No\\n'\n",
      " '🔎 Supporting Sentence: None\\n'\n",
      " '━━━━━━━━━━━━━━━━━━━━━━━━━━━━\\n'\n",
      " '❓ Question: drug formulations explored\\n'\n",
      " '💡 Answer: NA\\n'\n",
      " '🔎 Supporting Sentence: None\\n'\n",
      " '━━━━━━━━━━━━━━━━━━━━━━━━━━━━\\n'\n",
      " '❓ Question: lead small-molecule drug candidates\\n'\n",
      " '💡 Answer: NA\\n'\n",
      " '🔎 Supporting Sentence: None\\n'\n",
      " '━━━━━━━━━━━━━━━━━━━━━━━━━━━━\\n'\n",
      " '❓ Question: clinical trials\\n'\n",
      " '💡 Answer: NA\\n'\n",
      " '🔎 Supporting Sentence: None\\n'\n",
      " '━━━━━━━━━━━━━━━━━━━━━━━━━━━━\\n'\n",
      " '❓ Question: contribution of the paper\\n'\n",
      " '💡 Answer: NA\\n'\n",
      " '🔎 Supporting Sentence: None\\n'\n",
      " '━━━━━━━━━━━━━━━━━━━━━━━━━━━━\\n'\n",
      " '❓ Question: limitations of the paper\\n'\n",
      " '💡 Answer: NA\\n'\n",
      " '🔎 Supporting Sentence: None\\n'\n",
      " '━━━━━━━━━━━━━━━━━━━━━━━━━━━━\\n'\n",
      " '❓ Question: future work\\n'\n",
      " '💡 Answer: NA\\n'\n",
      " '🔎 Supporting Sentence: None\\n'\n",
      " '━━━━━━━━━━━━━━━━━━━━━━━━━━━━')\n"
     ]
    }
   ],
   "source": [
    "\n",
    "\n",
    "\n",
    "spock = Spock(model=\"gpt-4o\", paper=\"ansari-white-2023-serverless-prediction-of-peptide-properties-with-recurrent-neural-networks.pdf\", custom_questions=[\"What is the main contribution of this paper?\", \"What is the main limitation of this paper?\", \"What is the main future work of this paper?\"])\n",
    "              \n",
    "              \n",
    "spock()\n",
    "pp.pprint(spock.format_output())    "
   ]
  },
  {
   "cell_type": "markdown",
   "metadata": {},
   "source": [
    "### Running with llama3.3 model (Ollama)"
   ]
  },
  {
   "cell_type": "markdown",
   "metadata": {},
   "source": [
    "#### Initializing the server"
   ]
  },
  {
   "cell_type": "code",
   "execution_count": 7,
   "metadata": {},
   "outputs": [
    {
     "ename": "OSError",
     "evalue": "Background processes not supported.",
     "output_type": "error",
     "traceback": [
      "\u001b[0;31m---------------------------------------------------------------------------\u001b[0m",
      "\u001b[0;31mOSError\u001b[0m                                   Traceback (most recent call last)",
      "Cell \u001b[0;32mIn[7], line 1\u001b[0m\n\u001b[0;32m----> 1\u001b[0m \u001b[43mget_ipython\u001b[49m\u001b[43m(\u001b[49m\u001b[43m)\u001b[49m\u001b[38;5;241;43m.\u001b[39;49m\u001b[43msystem\u001b[49m\u001b[43m(\u001b[49m\u001b[38;5;124;43m'\u001b[39;49m\u001b[38;5;124;43mollama serve > ollama.log 2>&1 &\u001b[39;49m\u001b[38;5;124;43m'\u001b[39;49m\u001b[43m)\u001b[49m\n\u001b[1;32m      2\u001b[0m get_ipython()\u001b[38;5;241m.\u001b[39msystem(\u001b[38;5;124m'\u001b[39m\u001b[38;5;124mollama install llama3.3\u001b[39m\u001b[38;5;124m'\u001b[39m)\n",
      "File \u001b[0;32m~/anaconda3/envs/spock_package/lib/python3.11/site-packages/ipykernel/zmqshell.py:641\u001b[0m, in \u001b[0;36mZMQInteractiveShell.system_piped\u001b[0;34m(self, cmd)\u001b[0m\n\u001b[1;32m    634\u001b[0m \u001b[38;5;28;01mif\u001b[39;00m cmd\u001b[38;5;241m.\u001b[39mrstrip()\u001b[38;5;241m.\u001b[39mendswith(\u001b[38;5;124m\"\u001b[39m\u001b[38;5;124m&\u001b[39m\u001b[38;5;124m\"\u001b[39m):\n\u001b[1;32m    635\u001b[0m     \u001b[38;5;66;03m# this is *far* from a rigorous test\u001b[39;00m\n\u001b[1;32m    636\u001b[0m     \u001b[38;5;66;03m# We do not support backgrounding processes because we either use\u001b[39;00m\n\u001b[1;32m    637\u001b[0m     \u001b[38;5;66;03m# pexpect or pipes to read from.  Users can always just call\u001b[39;00m\n\u001b[1;32m    638\u001b[0m     \u001b[38;5;66;03m# os.system() or use ip.system=ip.system_raw\u001b[39;00m\n\u001b[1;32m    639\u001b[0m     \u001b[38;5;66;03m# if they really want a background process.\u001b[39;00m\n\u001b[1;32m    640\u001b[0m     msg \u001b[38;5;241m=\u001b[39m \u001b[38;5;124m\"\u001b[39m\u001b[38;5;124mBackground processes not supported.\u001b[39m\u001b[38;5;124m\"\u001b[39m\n\u001b[0;32m--> 641\u001b[0m     \u001b[38;5;28;01mraise\u001b[39;00m \u001b[38;5;167;01mOSError\u001b[39;00m(msg)\n\u001b[1;32m    643\u001b[0m \u001b[38;5;66;03m# we explicitly do NOT return the subprocess status code, because\u001b[39;00m\n\u001b[1;32m    644\u001b[0m \u001b[38;5;66;03m# a non-None value would trigger :func:`sys.displayhook` calls.\u001b[39;00m\n\u001b[1;32m    645\u001b[0m \u001b[38;5;66;03m# Instead, we store the exit_code in user_ns.\u001b[39;00m\n\u001b[1;32m    646\u001b[0m \u001b[38;5;66;03m# Also, protect system call from UNC paths on Windows here too\u001b[39;00m\n\u001b[1;32m    647\u001b[0m \u001b[38;5;66;03m# as is done in InteractiveShell.system_raw\u001b[39;00m\n\u001b[1;32m    648\u001b[0m \u001b[38;5;28;01mif\u001b[39;00m sys\u001b[38;5;241m.\u001b[39mplatform \u001b[38;5;241m==\u001b[39m \u001b[38;5;124m\"\u001b[39m\u001b[38;5;124mwin32\u001b[39m\u001b[38;5;124m\"\u001b[39m:\n",
      "\u001b[0;31mOSError\u001b[0m: Background processes not supported."
     ]
    }
   ],
   "source": [
    "!ollama serve > ollama.log 2>&1 &\n",
    "!ollama install llama3.3"
   ]
  },
  {
   "cell_type": "code",
   "execution_count": null,
   "metadata": {},
   "outputs": [],
   "source": [
    "spock_llama = Spock(paper=\"ansari-white-2023-serverless-prediction-of-peptide-properties-with-recurrent-neural-networks.pdf\", custom_questions=[\"What is the main contribution of this paper?\", \"What is the main limitation of this paper?\", \"What is the main future work of this paper?\"])\n",
    "spock_llama()\n",
    "pp.pprint(spock_llama.format_output())\n"
   ]
  }
 ],
 "metadata": {
  "kernelspec": {
   "display_name": "spock_package",
   "language": "python",
   "name": "python3"
  },
  "language_info": {
   "codemirror_mode": {
    "name": "ipython",
    "version": 3
   },
   "file_extension": ".py",
   "mimetype": "text/x-python",
   "name": "python",
   "nbconvert_exporter": "python",
   "pygments_lexer": "ipython3",
   "version": "3.11.9"
  }
 },
 "nbformat": 4,
 "nbformat_minor": 2
}
