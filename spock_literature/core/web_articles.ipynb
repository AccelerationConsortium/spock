{
 "cells": [
  {
   "cell_type": "markdown",
   "id": "bfd95b7d",
   "metadata": {},
   "source": [
    "# Compare BM25 vs TF-IDF\n",
    "\n",
    "### Goal: Compare the performance of BM25 and TF-IDF on a corpus of documents, specifically focusing on section headings. To classify the documents based on their relevance to a set of keywords, we will use both methods and compare their scores.\n",
    "This notebook will:\n",
    "\n",
    "1. Load your corpus of documents  \n",
    "2. Build a TF-IDF vectorizer and a BM25 index  \n",
    "3. Define a “query” of section-heading keywords  \n",
    "4. Compute and compare scores from both methods  \n",
    "5. Display results in a table and a simple plot  \n"
   ]
  },
  {
   "cell_type": "code",
   "execution_count": null,
   "id": "5152242b",
   "metadata": {},
   "outputs": [],
   "source": [
    "from rank_bm25 import BM25Okapi\n",
    "from sklearn.feature_extraction.text import TfidfVectorizer\n",
    "from sklearn.metrics.pairwise import cosine_similarity\n",
    "import pandas as pd\n",
    "import matplotlib.pyplot as plt\n",
    "\n"
   ]
  },
  {
   "cell_type": "code",
   "execution_count": null,
   "id": "e23a1d0c",
   "metadata": {},
   "outputs": [],
   "source": [
    "corpus = [\n",
    "    \n",
    "]"
   ]
  },
  {
   "cell_type": "code",
   "execution_count": null,
   "id": "152a59a2",
   "metadata": {},
   "outputs": [],
   "source": [
    "# 3. Build BM25 index\n",
    "tokenized = [doc.lower().split() for doc in corpus]\n",
    "bm25 = BM25Okapi(tokenized, k1=1.5, b=0.75)\n",
    "\n",
    "# 4. Build TF-IDF matrix\n",
    "tfidf = TfidfVectorizer(sublinear_tf=True, smooth_idf=True)\n",
    "tfidf_matrix = tfidf.fit_transform(corpus)\n"
   ]
  },
  {
   "cell_type": "code",
   "execution_count": null,
   "id": "ca909bfc",
   "metadata": {},
   "outputs": [],
   "source": [
    "query = \"abstract introduction methods results discussion references\"\n",
    "q_tokens = query.split()\n",
    "q_vec    = tfidf.transform([query])\n",
    "\n",
    "tfidf_scores = cosine_similarity(q_vec, tfidf_matrix)[0]\n",
    "bm25_scores  = bm25.get_scores(q_tokens)\n"
   ]
  }
 ],
 "metadata": {
  "language_info": {
   "name": "python"
  }
 },
 "nbformat": 4,
 "nbformat_minor": 5
}
