{
 "cells": [
  {
   "cell_type": "markdown",
   "id": "bfd95b7d",
   "metadata": {},
   "source": [
    "# Compare BM25 vs TF-IDF\n",
    "\n",
    "### Goal: Compare the performance of BM25 and TF-IDF on a corpus of documents, specifically focusing on section headings. To classify the documents based on their relevance to a set of keywords, we will use both methods and compare their scores.\n",
    "This notebook will:\n",
    "\n",
    "1. Load your corpus of documents  \n",
    "2. Build a TF-IDF vectorizer and a BM25 index  \n",
    "3. Define a “query” of section-heading keywords  \n",
    "4. Compute and compare scores from both methods  \n",
    "5. Display results in a table and a simple plot  \n"
   ]
  }
 ],
 "metadata": {
  "language_info": {
   "name": "python"
  }
 },
 "nbformat": 4,
 "nbformat_minor": 5
}
