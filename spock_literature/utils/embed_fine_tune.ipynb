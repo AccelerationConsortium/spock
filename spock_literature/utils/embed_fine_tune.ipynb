{
 "cells": [
  {
   "cell_type": "markdown",
   "id": "bfd95b7d",
   "metadata": {},
   "source": [
    "## Embedding model fine-tuning"
   ]
  }
 ],
 "metadata": {
  "language_info": {
   "name": "python"
  }
 },
 "nbformat": 4,
 "nbformat_minor": 5
}
